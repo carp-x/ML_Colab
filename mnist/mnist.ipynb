{
  "cells": [
    {
      "cell_type": "markdown",
      "metadata": {
        "id": "view-in-github",
        "colab_type": "text"
      },
      "source": [
        "<a href=\"https://colab.research.google.com/github/carp-x/ML_Colab/blob/main/mnist/mnist.ipynb\" target=\"_parent\"><img src=\"https://colab.research.google.com/assets/colab-badge.svg\" alt=\"Open In Colab\"/></a>"
      ]
    },
    {
      "cell_type": "code",
      "execution_count": null,
      "metadata": {
        "id": "ZvEp4vbCgzc7"
      },
      "outputs": [],
      "source": [
        "# environment\n",
        "\n",
        "import torch\n",
        "import torch.nn as nn\n",
        "from torch.utils.data import Dataset\n",
        "\n",
        "import pandas\n",
        "import matplotlib.pyplot as plt"
      ]
    },
    {
      "cell_type": "code",
      "execution_count": null,
      "metadata": {
        "colab": {
          "base_uri": "https://localhost:8080/"
        },
        "id": "q54YqFVsmSs_",
        "outputId": "b9b115ea-0fb6-4df6-f63d-722ebbf4371f"
      },
      "outputs": [
        {
          "output_type": "stream",
          "name": "stdout",
          "text": [
            "using cuda: Tesla T4\n"
          ]
        },
        {
          "output_type": "execute_result",
          "data": {
            "text/plain": [
              "device(type='cuda')"
            ]
          },
          "metadata": {},
          "execution_count": 2
        }
      ],
      "source": [
        "# cuda or not\n",
        "\n",
        "if torch.cuda.is_available():\n",
        "  torch.set_default_tensor_type(torch.cuda.FloatTensor)\n",
        "  print(\"using cuda:\",torch.cuda.get_device_name(0))\n",
        "  pass\n",
        "\n",
        "device = torch.device(\"cuda\" if torch.cuda.is_available() else \"cpu\")\n",
        "device"
      ]
    },
    {
      "cell_type": "code",
      "execution_count": null,
      "metadata": {
        "id": "YYtDQyF-hpe3"
      },
      "outputs": [],
      "source": [
        "# input class\n",
        "\n",
        "class MnistDataset(Dataset):\n",
        "\n",
        "    def __init__(self, csv_file):\n",
        "        self.data_df = pandas.read_csv(csv_file, header=None)\n",
        "        pass\n",
        "\n",
        "    def __len__(self):\n",
        "        return len(self.data_df)\n",
        "\n",
        "    def __getitem__(self, index):\n",
        "        # image label\n",
        "        label = torch.as_tensor(self.data_df.iloc[index,0])\n",
        "\n",
        "        # image data, normalised from 0-255 to 0-1\n",
        "        image_values = torch.as_tensor(self.data_df.iloc[index,1:].values) / 255.0\n",
        "\n",
        "        # return label, image data tensor\n",
        "        return label, image_values\n",
        "\n",
        "    def plot_image(self, index):\n",
        "        img = self.data_df.iloc[index,1:].values.reshape(28,28)\n",
        "        plt.title(\"label = \" + str(self.data_df.iloc[index,0]))\n",
        "        plt.imshow(img, interpolation='none', cmap='Blues')\n",
        "        pass\n",
        "    pass"
      ]
    },
    {
      "cell_type": "code",
      "execution_count": null,
      "metadata": {
        "colab": {
          "base_uri": "https://localhost:8080/"
        },
        "id": "coZMHdzToHWM",
        "outputId": "de043f2d-fbc0-46ca-a9c7-48d89efef475"
      },
      "outputs": [
        {
          "output_type": "stream",
          "name": "stdout",
          "text": [
            "Mounted at ./mount\n"
          ]
        }
      ],
      "source": [
        "# mount drive\n",
        "\n",
        "from google.colab import drive\n",
        "drive.mount('./mount')"
      ]
    },
    {
      "cell_type": "code",
      "execution_count": null,
      "metadata": {
        "id": "Z9vrrowshrA-"
      },
      "outputs": [],
      "source": [
        "# input import\n",
        "\n",
        "mnist_dataset = MnistDataset('mount/My Drive/Colab Notebooks/mnist/mnist_train.csv')"
      ]
    },
    {
      "cell_type": "code",
      "execution_count": null,
      "metadata": {
        "colab": {
          "base_uri": "https://localhost:8080/",
          "height": 281
        },
        "id": "gRGNFVvYiED8",
        "outputId": "ce6ab997-0861-4166-8e0e-23cfb70873ad"
      },
      "outputs": [
        {
          "output_type": "display_data",
          "data": {
            "text/plain": [
              "<Figure size 432x288 with 1 Axes>"
            ],
            "image/png": "[encoded data removed]"
          },
          "metadata": {
            "needs_background": "light"
          }
        }
      ],
      "source": [
        "# input check\n",
        "\n",
        "mnist_dataset.plot_image(23)"
      ]
    },
    {
      "cell_type": "code",
      "execution_count": null,
      "metadata": {
        "id": "o227mA-OiSaG"
      },
      "outputs": [],
      "source": [
        "# classifier class\n",
        "\n",
        "class Classifier(nn.Module):\n",
        "\n",
        "    def __init__(self):\n",
        "        # initialise parent pytorch class\n",
        "        super().__init__()\n",
        "\n",
        "        # define neural network layers\n",
        "        self.model = nn.Sequential(\n",
        "            nn.Linear(784, 200),\n",
        "            nn.LeakyReLU(),\n",
        "            nn.LayerNorm(200),\n",
        "            nn.Linear(200, 10)\n",
        "        )\n",
        "\n",
        "        # create loss function\n",
        "        self.loss_function = nn.CrossEntropyLoss()\n",
        "\n",
        "        # create optimiser, using simple stochastic gradient descent\n",
        "        self.optimiser = torch.optim.Adam(self.parameters())\n",
        "\n",
        "        # counter and accumulator for progress\n",
        "        self.counter = 0\n",
        "        self.progress = []\n",
        "\n",
        "        pass\n",
        "\n",
        "\n",
        "    def forward(self, inputs):\n",
        "        # simply run model\n",
        "        return self.model(inputs)\n",
        "\n",
        "\n",
        "    def train(self, inputs, targets):\n",
        "        # calculate the output of the network\n",
        "        outputs = self.forward(inputs)\n",
        "\n",
        "        # calculate loss\n",
        "        loss = self.loss_function(outputs, targets)\n",
        "\n",
        "        # increase counter and accumulate error every 10\n",
        "        self.counter += 1\n",
        "        if (self.counter % 10 == 0):\n",
        "            self.progress.append(loss.item())\n",
        "            pass\n",
        "        if (self.counter % 10000 == 0):\n",
        "            print(\"counter = \", self.counter)\n",
        "            pass\n",
        "\n",
        "        # zero gradients, perform a backward pass, and update the weights\n",
        "        self.optimiser.zero_grad()\n",
        "        loss.backward()\n",
        "        self.optimiser.step()\n",
        "\n",
        "        pass\n",
        "\n",
        "\n",
        "    def plot_progress(self):\n",
        "        df = pandas.DataFrame(self.progress, columns=['loss'])\n",
        "        df.plot(xlim=(0, 25000), ylim=(0, 30), figsize=(16, 8), alpha=0.1, marker='.', grid=True, xticks=range(0, 30000, 5000), yticks=range(0, 35, 5))\n",
        "        pass\n",
        "\n",
        "    pass"
      ]
    },
    {
      "cell_type": "code",
      "execution_count": null,
      "metadata": {
        "colab": {
          "base_uri": "https://localhost:8080/"
        },
        "id": "iBo_aZfgimzU",
        "outputId": "66741ea1-4727-4115-b3bd-cb0c72fbedd5"
      },
      "outputs": [
        {
          "output_type": "stream",
          "name": "stdout",
          "text": [
            "training epoch 1 of 4\n",
            "counter =  10000\n",
            "counter =  20000\n",
            "counter =  30000\n",
            "counter =  40000\n",
            "counter =  50000\n",
            "counter =  60000\n",
            "training epoch 2 of 4\n",
            "counter =  70000\n",
            "counter =  80000\n",
            "counter =  90000\n",
            "counter =  100000\n",
            "counter =  110000\n",
            "counter =  120000\n",
            "training epoch 3 of 4\n",
            "counter =  130000\n",
            "counter =  140000\n",
            "counter =  150000\n",
            "counter =  160000\n",
            "counter =  170000\n",
            "counter =  180000\n",
            "training epoch 4 of 4\n",
            "counter =  190000\n",
            "counter =  200000\n",
            "counter =  210000\n",
            "counter =  220000\n",
            "counter =  230000\n",
            "counter =  240000\n",
            "CPU times: user 6min 51s, sys: 11 s, total: 7min 2s\n",
            "Wall time: 7min 9s\n"
          ]
        }
      ],
      "source": [
        "%%time\n",
        "# create neural network\n",
        "\n",
        "C = Classifier()\n",
        "\n",
        "# train network on MNIST data set\n",
        "\n",
        "epochs = 4\n",
        "\n",
        "for i in range(epochs):\n",
        "    print('training epoch', i+1, \"of\", epochs)\n",
        "    for label, image_data_tensor in mnist_dataset:\n",
        "        C.train(image_data_tensor, label)\n",
        "        pass\n",
        "    pass"
      ]
    },
    {
      "cell_type": "code",
      "execution_count": null,
      "metadata": {
        "colab": {
          "base_uri": "https://localhost:8080/",
          "height": 487
        },
        "id": "fjQFcKbeisGx",
        "outputId": "c29e5307-0b18-4e6d-bb8b-c804fd6ff4fa"
      },
      "outputs": [
        {
          "output_type": "display_data",
          "data": {
            "text/plain": [
              "<Figure size 1152x576 with 1 Axes>"
            ],
            "image/png": "[encoded data removed]"
          },
          "metadata": {
            "needs_background": "light"
          }
        }
      ],
      "source": [
        "# plot classifier error\n",
        "\n",
        "C.plot_progress()"
      ]
    },
    {
      "cell_type": "code",
      "execution_count": null,
      "metadata": {
        "id": "WoWXL5YNj91K"
      },
      "outputs": [],
      "source": [
        "# load MNIST test data\n",
        "\n",
        "mnist_test_dataset = MnistDataset('mount/My Drive/Colab Notebooks/mnist/mnist_test.csv')"
      ]
    },
    {
      "cell_type": "code",
      "execution_count": null,
      "metadata": {
        "colab": {
          "base_uri": "https://localhost:8080/",
          "height": 281
        },
        "id": "rseyRG8MkTQI",
        "outputId": "2ed33acb-fc07-41b1-9720-5c39fd218d85"
      },
      "outputs": [
        {
          "output_type": "display_data",
          "data": {
            "text/plain": [
              "<Figure size 432x288 with 1 Axes>"
            ],
            "image/png": "[encoded data removed]"
          },
          "metadata": {
            "needs_background": "light"
          }
        }
      ],
      "source": [
        "# pick a record\n",
        "record = 19\n",
        "\n",
        "# plot image and correct label\n",
        "mnist_test_dataset.plot_image(record)"
      ]
    },
    {
      "cell_type": "code",
      "execution_count": null,
      "metadata": {
        "colab": {
          "base_uri": "https://localhost:8080/",
          "height": 284
        },
        "id": "v5wj9qPrkZv7",
        "outputId": "0b7a184f-13d4-430a-9d42-7596ab9ca0df"
      },
      "outputs": [
        {
          "output_type": "execute_result",
          "data": {
            "text/plain": [
              "<matplotlib.axes._subplots.AxesSubplot at 0x7f894c4ab450>"
            ]
          },
          "metadata": {},
          "execution_count": 12
        },
        {
          "output_type": "display_data",
          "data": {
            "text/plain": [
              "<Figure size 432x288 with 1 Axes>"
            ],
            "image/png": "[encoded data removed]"
          },
          "metadata": {
            "needs_background": "light"
          }
        }
      ],
      "source": [
        "# visualise the answer given by the neural network\n",
        "\n",
        "image_data = mnist_test_dataset[record][1]\n",
        "\n",
        "# query from trained network\n",
        "output = C.forward(image_data)\n",
        "\n",
        "# plot output tensor\n",
        "pandas.DataFrame(output.detach().cpu().numpy()).plot(kind='bar', legend=False, ylim=(0,30))"
      ]
    },
    {
      "cell_type": "code",
      "execution_count": null,
      "metadata": {
        "colab": {
          "base_uri": "https://localhost:8080/"
        },
        "id": "AZb4b5qKktm8",
        "outputId": "fd88b9db-6db2-4435-b52c-48852a6d09f1"
      },
      "outputs": [
        {
          "output_type": "stream",
          "name": "stdout",
          "text": [
            "9709 10000 0.9709\n"
          ]
        }
      ],
      "source": [
        "# test trained neural network on training data\n",
        "\n",
        "score = 0\n",
        "items = 0\n",
        "\n",
        "for label, image_data_tensor in mnist_test_dataset:\n",
        "    answer = C.forward(image_data_tensor).detach().cpu().numpy()\n",
        "    if (answer.argmax() == label):\n",
        "        score += 1\n",
        "        pass\n",
        "    items += 1\n",
        "\n",
        "    pass\n",
        "\n",
        "print(score, items, score/items)"
      ]
    },
    {
      "cell_type": "code",
      "execution_count": null,
      "metadata": {
        "id": "oYd8wfkB8XES"
      },
      "outputs": [],
      "source": []
    }
  ],
  "metadata": {
    "accelerator": "GPU",
    "colab": {
      "provenance": [],
      "authorship_tag": "ABX9TyOSOWROvvZj5JchV97RJRtn",
      "include_colab_link": true
    },
    "kernelspec": {
      "display_name": "Python 3",
      "name": "python3"
    },
    "language_info": {
      "name": "python"
    }
  },
  "nbformat": 4,
  "nbformat_minor": 0
}