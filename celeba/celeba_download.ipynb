{
  "nbformat": 4,
  "nbformat_minor": 0,
  "metadata": {
    "colab": {
      "provenance": [],
      "authorship_tag": "ABX9TyPCVOcuBX1cRWvPisN8JhE9",
      "include_colab_link": true
    },
    "kernelspec": {
      "name": "python3",
      "display_name": "Python 3"
    },
    "language_info": {
      "name": "python"
    }
  },
  "cells": [
    {
      "cell_type": "markdown",
      "metadata": {
        "id": "view-in-github",
        "colab_type": "text"
      },
      "source": [
        "<a href=\"https://colab.research.google.com/github/carp-x/ML_Colab/blob/main/celeba/celeba_download.ipynb\" target=\"_parent\"><img src=\"https://colab.research.google.com/assets/colab-badge.svg\" alt=\"Open In Colab\"/></a>"
      ]
    },
    {
      "cell_type": "code",
      "execution_count": null,
      "metadata": {
        "colab": {
          "base_uri": "https://localhost:8080/"
        },
        "id": "75eegC-aw38t",
        "outputId": "1a433bd2-50ca-4fea-928c-b0718a08c815"
      },
      "outputs": [
        {
          "output_type": "stream",
          "name": "stdout",
          "text": [
            "Mounted at ./mount\n"
          ]
        }
      ],
      "source": [
        "from google.colab import drive\n",
        "drive.mount('./mount')"
      ]
    },
    {
      "cell_type": "code",
      "source": [
        "import h5py\n",
        "import zipfile\n",
        "import imageio\n",
        "import os"
      ],
      "metadata": {
        "id": "XJZK-hkLw6Sj"
      },
      "execution_count": null,
      "outputs": []
    },
    {
      "cell_type": "code",
      "source": [
        "%%time\n",
        "\n",
        "# location of the HDF5 package, to be setup\n",
        "# h5py restored in 02_GAN/\n",
        "hdf5_file = 'mount/My Drive/Colab Notebooks/celeba_aligned_small.h5py'\n",
        "\n",
        "# how many of the 202,599 images to extract and package into HDF5\n",
        "total_images = 20000\n",
        "\n",
        "with h5py.File(hdf5_file, 'w') as hf:\n",
        "\n",
        "    count = 0\n",
        "\n",
        "    # zip deleted for space saving, hdf5 remained for learning\n",
        "    with zipfile.ZipFile('mount/My Drive/Colab Notebooks/img_align_celeba.zip', 'r') as zf:\n",
        "      for i in zf.namelist():\n",
        "        if (i[-4:] == '.jpg'):\n",
        "          # extract image\n",
        "          ofile = zf.extract(i)\n",
        "          img = imageio.imread(ofile)\n",
        "          os.remove(ofile)\n",
        "\n",
        "          # add image data to HDF5 file with new name\n",
        "          hf.create_dataset('img_align_celeba/'+str(count)+'.jpg', data=img, compression=\"gzip\", compression_opts=9)\n",
        "\n",
        "          count = count + 1\n",
        "          if (count%1000 == 0):\n",
        "            print(\"images done .. \", count)\n",
        "            pass\n",
        "\n",
        "          # stop when total_images reached\n",
        "          if (count == total_images):\n",
        "            break\n",
        "          pass\n",
        "\n",
        "        pass\n",
        "      pass"
      ],
      "metadata": {
        "colab": {
          "base_uri": "https://localhost:8080/"
        },
        "id": "zpnKtXevxDyl",
        "outputId": "56a6464a-7ecd-43f4-fbc1-790a7e8b8155"
      },
      "execution_count": null,
      "outputs": [
        {
          "output_type": "stream",
          "name": "stdout",
          "text": [
            "images done ..  1000\n",
            "images done ..  2000\n",
            "images done ..  3000\n",
            "images done ..  4000\n",
            "images done ..  5000\n",
            "images done ..  6000\n",
            "images done ..  7000\n",
            "images done ..  8000\n",
            "images done ..  9000\n",
            "images done ..  10000\n",
            "images done ..  11000\n",
            "images done ..  12000\n",
            "images done ..  13000\n",
            "images done ..  14000\n",
            "images done ..  15000\n",
            "images done ..  16000\n",
            "images done ..  17000\n",
            "images done ..  18000\n",
            "images done ..  19000\n",
            "images done ..  20000\n",
            "CPU times: user 3min 4s, sys: 12.7 s, total: 3min 16s\n",
            "Wall time: 4min 4s\n"
          ]
        }
      ]
    },
    {
      "cell_type": "code",
      "source": [],
      "metadata": {
        "id": "2VCDbsM8y3Sy"
      },
      "execution_count": null,
      "outputs": []
    }
  ]
}